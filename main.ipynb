{
 "cells": [
  {
   "cell_type": "markdown",
   "source": [
    "<a href=\"https://colab.research.google.com/github/Matthew1172/Judging-Flowers/blob/master/main.ipynb\">\n",
    "  <img src=\"https://colab.research.google.com/assets/colab-badge.svg\" alt=\"Open In Colab\"/>\n",
    "</a>"
   ],
   "metadata": {
    "collapsed": false,
    "pycharm": {
     "name": "#%% md\n"
    }
   }
  },
  {
   "cell_type": "code",
   "execution_count": 160,
   "outputs": [],
   "source": [
    "import pandas as pd\n",
    "import numpy as np\n",
    "from sklearn import svm\n",
    "import matplotlib.pyplot as plt\n",
    "from sklearn.datasets import load_iris\n",
    "from sklearn.neural_network import MLPClassifier\n",
    "from sklearn.neighbors import KNeighborsClassifier\n",
    "from sklearn.linear_model import LogisticRegression\n",
    "from sklearn.model_selection import train_test_split"
   ],
   "metadata": {
    "collapsed": false,
    "pycharm": {
     "name": "#%%\n"
    }
   }
  },
  {
   "cell_type": "code",
   "execution_count": 161,
   "outputs": [],
   "source": [
    "# Load the dataset (load remotely, not locally)\n",
    "iris_data = load_iris(as_frame=True)\n",
    "results = {}"
   ],
   "metadata": {
    "collapsed": false,
    "pycharm": {
     "name": "#%%\n"
    }
   }
  },
  {
   "cell_type": "code",
   "execution_count": 162,
   "outputs": [
    {
     "data": {
      "text/plain": "    sepal length (cm)  sepal width (cm)  petal length (cm)  petal width (cm)\n0                 5.1               3.5                1.4               0.2\n1                 4.9               3.0                1.4               0.2\n2                 4.7               3.2                1.3               0.2\n3                 4.6               3.1                1.5               0.2\n4                 5.0               3.6                1.4               0.2\n5                 5.4               3.9                1.7               0.4\n6                 4.6               3.4                1.4               0.3\n7                 5.0               3.4                1.5               0.2\n8                 4.4               2.9                1.4               0.2\n9                 4.9               3.1                1.5               0.1\n10                5.4               3.7                1.5               0.2\n11                4.8               3.4                1.6               0.2\n12                4.8               3.0                1.4               0.1\n13                4.3               3.0                1.1               0.1\n14                5.8               4.0                1.2               0.2",
      "text/html": "<div>\n<style scoped>\n    .dataframe tbody tr th:only-of-type {\n        vertical-align: middle;\n    }\n\n    .dataframe tbody tr th {\n        vertical-align: top;\n    }\n\n    .dataframe thead th {\n        text-align: right;\n    }\n</style>\n<table border=\"1\" class=\"dataframe\">\n  <thead>\n    <tr style=\"text-align: right;\">\n      <th></th>\n      <th>sepal length (cm)</th>\n      <th>sepal width (cm)</th>\n      <th>petal length (cm)</th>\n      <th>petal width (cm)</th>\n    </tr>\n  </thead>\n  <tbody>\n    <tr>\n      <th>0</th>\n      <td>5.1</td>\n      <td>3.5</td>\n      <td>1.4</td>\n      <td>0.2</td>\n    </tr>\n    <tr>\n      <th>1</th>\n      <td>4.9</td>\n      <td>3.0</td>\n      <td>1.4</td>\n      <td>0.2</td>\n    </tr>\n    <tr>\n      <th>2</th>\n      <td>4.7</td>\n      <td>3.2</td>\n      <td>1.3</td>\n      <td>0.2</td>\n    </tr>\n    <tr>\n      <th>3</th>\n      <td>4.6</td>\n      <td>3.1</td>\n      <td>1.5</td>\n      <td>0.2</td>\n    </tr>\n    <tr>\n      <th>4</th>\n      <td>5.0</td>\n      <td>3.6</td>\n      <td>1.4</td>\n      <td>0.2</td>\n    </tr>\n    <tr>\n      <th>5</th>\n      <td>5.4</td>\n      <td>3.9</td>\n      <td>1.7</td>\n      <td>0.4</td>\n    </tr>\n    <tr>\n      <th>6</th>\n      <td>4.6</td>\n      <td>3.4</td>\n      <td>1.4</td>\n      <td>0.3</td>\n    </tr>\n    <tr>\n      <th>7</th>\n      <td>5.0</td>\n      <td>3.4</td>\n      <td>1.5</td>\n      <td>0.2</td>\n    </tr>\n    <tr>\n      <th>8</th>\n      <td>4.4</td>\n      <td>2.9</td>\n      <td>1.4</td>\n      <td>0.2</td>\n    </tr>\n    <tr>\n      <th>9</th>\n      <td>4.9</td>\n      <td>3.1</td>\n      <td>1.5</td>\n      <td>0.1</td>\n    </tr>\n    <tr>\n      <th>10</th>\n      <td>5.4</td>\n      <td>3.7</td>\n      <td>1.5</td>\n      <td>0.2</td>\n    </tr>\n    <tr>\n      <th>11</th>\n      <td>4.8</td>\n      <td>3.4</td>\n      <td>1.6</td>\n      <td>0.2</td>\n    </tr>\n    <tr>\n      <th>12</th>\n      <td>4.8</td>\n      <td>3.0</td>\n      <td>1.4</td>\n      <td>0.1</td>\n    </tr>\n    <tr>\n      <th>13</th>\n      <td>4.3</td>\n      <td>3.0</td>\n      <td>1.1</td>\n      <td>0.1</td>\n    </tr>\n    <tr>\n      <th>14</th>\n      <td>5.8</td>\n      <td>4.0</td>\n      <td>1.2</td>\n      <td>0.2</td>\n    </tr>\n  </tbody>\n</table>\n</div>"
     },
     "execution_count": 162,
     "metadata": {},
     "output_type": "execute_result"
    }
   ],
   "source": [
    "iris_data['data'].head(15)"
   ],
   "metadata": {
    "collapsed": false,
    "pycharm": {
     "name": "#%%\n"
    }
   }
  },
  {
   "cell_type": "code",
   "execution_count": 163,
   "outputs": [
    {
     "data": {
      "text/plain": "    target\n0        0\n1        0\n2        0\n3        0\n4        0\n5        0\n6        0\n7        0\n8        0\n9        0\n10       0\n11       0\n12       0\n13       0\n14       0",
      "text/html": "<div>\n<style scoped>\n    .dataframe tbody tr th:only-of-type {\n        vertical-align: middle;\n    }\n\n    .dataframe tbody tr th {\n        vertical-align: top;\n    }\n\n    .dataframe thead th {\n        text-align: right;\n    }\n</style>\n<table border=\"1\" class=\"dataframe\">\n  <thead>\n    <tr style=\"text-align: right;\">\n      <th></th>\n      <th>target</th>\n    </tr>\n  </thead>\n  <tbody>\n    <tr>\n      <th>0</th>\n      <td>0</td>\n    </tr>\n    <tr>\n      <th>1</th>\n      <td>0</td>\n    </tr>\n    <tr>\n      <th>2</th>\n      <td>0</td>\n    </tr>\n    <tr>\n      <th>3</th>\n      <td>0</td>\n    </tr>\n    <tr>\n      <th>4</th>\n      <td>0</td>\n    </tr>\n    <tr>\n      <th>5</th>\n      <td>0</td>\n    </tr>\n    <tr>\n      <th>6</th>\n      <td>0</td>\n    </tr>\n    <tr>\n      <th>7</th>\n      <td>0</td>\n    </tr>\n    <tr>\n      <th>8</th>\n      <td>0</td>\n    </tr>\n    <tr>\n      <th>9</th>\n      <td>0</td>\n    </tr>\n    <tr>\n      <th>10</th>\n      <td>0</td>\n    </tr>\n    <tr>\n      <th>11</th>\n      <td>0</td>\n    </tr>\n    <tr>\n      <th>12</th>\n      <td>0</td>\n    </tr>\n    <tr>\n      <th>13</th>\n      <td>0</td>\n    </tr>\n    <tr>\n      <th>14</th>\n      <td>0</td>\n    </tr>\n  </tbody>\n</table>\n</div>"
     },
     "execution_count": 163,
     "metadata": {},
     "output_type": "execute_result"
    }
   ],
   "source": [
    "pd.DataFrame(iris_data['target']).head(15)"
   ],
   "metadata": {
    "collapsed": false,
    "pycharm": {
     "name": "#%%\n"
    }
   }
  },
  {
   "cell_type": "code",
   "execution_count": 164,
   "outputs": [
    {
     "name": "stdout",
     "output_type": "stream",
     "text": [
      "Feature names ['sepal length (cm)', 'sepal width (cm)', 'petal length (cm)', 'petal width (cm)']\n",
      "Shape of Feature names (4, 1)\n",
      "Shape of Features (150, 4)\n",
      "Label names ['setosa' 'versicolor' 'virginica']\n",
      "Shape of Label names (3, 1)\n",
      "Shape of Labels (150,)\n"
     ]
    }
   ],
   "source": [
    "print(\"Feature names\", iris_data['feature_names'])\n",
    "print(\"Shape of Feature names\", pd.DataFrame(iris_data['feature_names']).shape)\n",
    "print(\"Shape of Features\", iris_data['data'].shape)\n",
    "print(\"Label names\", iris_data['target_names'])\n",
    "print(\"Shape of Label names\", pd.DataFrame(iris_data['target_names']).shape)\n",
    "print(\"Shape of Labels\", iris_data['target'].shape)"
   ],
   "metadata": {
    "collapsed": false,
    "pycharm": {
     "name": "#%%\n"
    }
   }
  },
  {
   "cell_type": "markdown",
   "source": [
    "Explain what the data is in your own words. What are your features and labels?\n",
    "What is the mapping of your labels to the actual classes?"
   ],
   "metadata": {
    "collapsed": false,
    "pycharm": {
     "name": "#%% md\n"
    }
   }
  },
  {
   "cell_type": "code",
   "execution_count": 165,
   "outputs": [],
   "source": [
    "# Take the dataset and split it into our features (X) and label (y)\n",
    "features, labels = load_iris(return_X_y=True) # this loads as features and labels for us\n",
    "# Use sklearn to split the features and labels into a training/test set. (90% train, 10% test)\n",
    "x_train, x_test, y_train, y_test = train_test_split(features, labels, train_size=.9, test_size=.1)"
   ],
   "metadata": {
    "collapsed": false,
    "pycharm": {
     "name": "#%%\n"
    }
   }
  },
  {
   "cell_type": "code",
   "execution_count": 166,
   "outputs": [
    {
     "name": "stdout",
     "output_type": "stream",
     "text": [
      "Prediction for class 0: [[9.79502785e-01 2.04971973e-02 1.79653429e-08]] --> Highest probability should be the first one\n",
      "Prediction for class 1: [[0.00250578 0.86693981 0.13055441]] --> Highest probability should be the second one\n",
      "Prediction for class 2: [[1.32865689e-06 5.42637595e-03 9.94572295e-01]] --> Highest probability should be the third one\n",
      "Train Accuracy: 0.9703703703703703\n",
      "Test Accuracy: 1.0\n"
     ]
    },
    {
     "name": "stderr",
     "output_type": "stream",
     "text": [
      "C:\\Users\\pecko\\anaconda3\\envs\\Judging Flowers\\lib\\site-packages\\sklearn\\linear_model\\_logistic.py:814: ConvergenceWarning: lbfgs failed to converge (status=1):\n",
      "STOP: TOTAL NO. of ITERATIONS REACHED LIMIT.\n",
      "\n",
      "Increase the number of iterations (max_iter) or scale the data as shown in:\n",
      "    https://scikit-learn.org/stable/modules/preprocessing.html\n",
      "Please also refer to the documentation for alternative solver options:\n",
      "    https://scikit-learn.org/stable/modules/linear_model.html#logistic-regression\n",
      "  n_iter_i = _check_optimize_result(\n"
     ]
    }
   ],
   "source": [
    "# i. Use sklearn to train a LogisticRegression model on the training set\n",
    "lr = LogisticRegression().fit(x_train, y_train)\n",
    "# ii. For a sample datapoint, predict the probabilities for each possible class\n",
    "print(\"Prediction for class 0:\", lr.predict_proba([[5.1, 3.5, 1.4, 0.2]]), \"--> Highest probability should be the first one\")\n",
    "print(\"Prediction for class 1:\", lr.predict_proba([[7.0, 3.2, 4.7, 1.4]]), \"--> Highest probability should be the second one\")\n",
    "print(\"Prediction for class 2:\", lr.predict_proba([[6.3, 3.3, 6.0, 2.5]]), \"--> Highest probability should be the third one\")\n",
    "# iii. Report on the score for Logistic regression model, what does the score measure?\n",
    "train_acc = lr.score(x_train, y_train)\n",
    "test_acc = lr.score(x_test, y_test)\n",
    "results['LogisticRegression'] = (train_acc, test_acc)\n",
    "print(\"Train Accuracy:\", train_acc)\n",
    "print(\"Test Accuracy:\", test_acc)"
   ],
   "metadata": {
    "collapsed": false,
    "pycharm": {
     "name": "#%%\n"
    }
   }
  },
  {
   "cell_type": "markdown",
   "source": [
    "The train accuracy is about 97% and the test accuracy is 100%, this could be a sign of under fitting."
   ],
   "metadata": {
    "collapsed": false,
    "pycharm": {
     "name": "#%% md\n"
    }
   }
  },
  {
   "cell_type": "code",
   "execution_count": 167,
   "outputs": [
    {
     "name": "stdout",
     "output_type": "stream",
     "text": [
      "Intercept: [  9.64907054   2.24758751 -11.89665805]\n",
      "Coefficients: [[-0.40665396  0.94911132 -2.46751228 -1.07775873]\n",
      " [ 0.46754437 -0.22496031 -0.22957849 -0.81546858]\n",
      " [-0.06089041 -0.72415101  2.69709076  1.89322731]]\n"
     ]
    }
   ],
   "source": [
    "# iv. Extract the coefficents and intercepts for the boundary line(s)\n",
    "print(\"Intercept:\", lr.intercept_)\n",
    "print(\"Coefficients:\", lr.coef_)"
   ],
   "metadata": {
    "collapsed": false,
    "pycharm": {
     "name": "#%%\n"
    }
   }
  },
  {
   "cell_type": "code",
   "execution_count": 168,
   "outputs": [
    {
     "name": "stdout",
     "output_type": "stream",
     "text": [
      "Prediction for class 0: [[0.97391563 0.01719822 0.00888616]] --> Highest probability should be the first one\n",
      "Prediction for class 1: [[0.01033181 0.90382808 0.08584011]] --> Highest probability should be the second one\n",
      "Prediction for class 2: [[6.63955553e-03 7.97330513e-04 9.92563114e-01]] --> Highest probability should be the third one\n",
      "Train Accuracy: 0.9703703703703703\n",
      "Test Accuracy: 0.9333333333333333\n"
     ]
    }
   ],
   "source": [
    "# i. Use sklearn to train a Support Vector Classifier on the training set\n",
    "svm1 = svm.SVC(probability=True).fit(x_train, y_train)\n",
    "# ii. For a sample datapoint, predict the probabilities for each possible class\n",
    "print(\"Prediction for class 0:\", svm1.predict_proba([[5.1, 3.5, 1.4, 0.2]]), \"--> Highest probability should be the first one\")\n",
    "print(\"Prediction for class 1:\", svm1.predict_proba([[7.0, 3.2, 4.7, 1.4]]), \"--> Highest probability should be the second one\")\n",
    "print(\"Prediction for class 2:\", svm1.predict_proba([[6.3, 3.3, 6.0, 2.5]]), \"--> Highest probability should be the third one\")\n",
    "# iii. Report on the score for the SVM, what does the score measure?\n",
    "train_acc = svm1.score(x_train, y_train)\n",
    "test_acc = svm1.score(x_test, y_test)\n",
    "results['SVM'] = (train_acc, test_acc)\n",
    "\n",
    "print(\"Train Accuracy:\", train_acc)\n",
    "print(\"Test Accuracy:\", test_acc)"
   ],
   "metadata": {
    "collapsed": false,
    "pycharm": {
     "name": "#%%\n"
    }
   }
  },
  {
   "cell_type": "markdown",
   "source": [
    "predict_proba is how accurately the model can predict\n",
    "a datapoint for class 0, 1, 2.\n",
    "\n",
    "SVM scores:\n",
    "94.81% for train accuracy\n",
    "100% for test accuarcy.\n",
    "This means there is under fitting because the test accuracy is significantly higher than the train accuracy."
   ],
   "metadata": {
    "collapsed": false,
    "pycharm": {
     "name": "#%% md\n"
    }
   }
  },
  {
   "cell_type": "code",
   "execution_count": 169,
   "outputs": [
    {
     "name": "stdout",
     "output_type": "stream",
     "text": [
      "Prediction for class 0: [[9.99458643e-01 5.41357296e-04 2.61298853e-11]] --> Highest probability should be the first one\n",
      "Prediction for class 1: [[5.74061618e-04 9.97141807e-01 2.28413102e-03]] --> Highest probability should be the second one\n",
      "Prediction for class 2: [[2.14594993e-08 1.83833040e-04 9.99816146e-01]] --> Highest probability should be the third one\n",
      "\n",
      "default relu:\n",
      "Train accuracy: 0.9851851851851852\n",
      "Test accuracy: 0.9333333333333333 \n",
      "\n",
      "identity:\n",
      "Train Accuracy: 0.9851851851851852\n",
      "Test Accuracy: 0.9333333333333333 \n",
      "\n",
      "tanh:\n",
      "Train Accuracy: 0.9777777777777777\n",
      "Test Accuracy: 1.0 \n",
      "\n",
      "logistic:\n",
      "Train Accuracy: 0.9925925925925926\n",
      "Test Accuracy: 0.9333333333333333 \n",
      "\n"
     ]
    }
   ],
   "source": [
    "# i. Use sklearn to train a Neural Network (MLP Classifier) on the training set\n",
    "mpc = MLPClassifier(max_iter=600).fit(x_train, y_train) # used max-iter to remove non convergence warning\n",
    "# ii. For a sample datapoint, predict the probabilities for each possible class\n",
    "print(\"Prediction for class 0:\", mpc.predict_proba([[5.1, 3.5, 1.4, 0.2]]), \"--> Highest probability should be the first one\")\n",
    "print(\"Prediction for class 1:\", mpc.predict_proba([[7.0, 3.2, 4.7, 1.4]]), \"--> Highest probability should be the second one\")\n",
    "print(\"Prediction for class 2:\", mpc.predict_proba([[6.3, 3.3, 6.0, 2.5]]), \"--> Highest probability should be the third one\\n\")\n",
    "# iii. Report on the score for the Neural Network, what does the score measure?\n",
    "train_acc = mpc.score(x_train, y_train)\n",
    "test_acc = mpc.score(x_test, y_test)\n",
    "results['MLP'] = (train_acc, test_acc)\n",
    "\n",
    "print(\"default relu:\")\n",
    "print(\"Train accuracy:\", train_acc)\n",
    "print(\"Test accuracy:\", test_acc, \"\\n\")\n",
    "\n",
    "# iv: Experiment with different options for the neural network, report on your best configuration (the highest score I was able to achieve was 0.8666)\n",
    "for i in [\"identity\", \"tanh\", \"logistic\"]:\n",
    "    print(i + \":\")\n",
    "    mpc = MLPClassifier(activation=i, max_iter=900).fit(x_train, y_train)\n",
    "    train_acc = mpc.score(x_train, y_train)\n",
    "    test_acc = mpc.score(x_test, y_test)\n",
    "    results[i] = (train_acc, test_acc)\n",
    "    print(\"Train Accuracy:\", train_acc)\n",
    "    print(\"Test Accuracy:\", test_acc, \"\\n\")"
   ],
   "metadata": {
    "collapsed": false,
    "pycharm": {
     "name": "#%%\n"
    }
   }
  },
  {
   "cell_type": "markdown",
   "source": [
    "logistic activation function showed performed the best, with max_iter=900.\n",
    "After testing different max_iters, I discovered that depending\n",
    "on the iteration the accuracy may increase or decrease.\n",
    "Not utilizing the max_iter option gave a warning\n",
    "statement that the Neural Network did not converge which is the reason for max_iter."
   ],
   "metadata": {
    "collapsed": false,
    "pycharm": {
     "name": "#%% md\n"
    }
   }
  },
  {
   "cell_type": "code",
   "execution_count": 170,
   "outputs": [
    {
     "name": "stdout",
     "output_type": "stream",
     "text": [
      "class 0 predictions: [[1. 0. 0.]] --> Highest probability should be the first one\n",
      "class 1 predictions: [[0. 1. 0.]] --> Highest probability should be the second one\n",
      "class 2 predictions: [[0. 0. 1.]] --> Highest probability should be the third one\n",
      "\n",
      "Train Accuracy: 0.9851851851851852\n",
      "Test Accuracy: 0.9333333333333333\n"
     ]
    }
   ],
   "source": [
    "# i. Use sklearn to 'train' a k-Neighbors Classifier\n",
    "neighbors = KNeighborsClassifier().fit(x_train, y_train)\n",
    "# ii. For a sample datapoint, predict the probabilities for each possible class\n",
    "print(\"class 0 predictions:\", neighbors.predict_proba([[5.1, 3.5, 1.4, 0.2]]), \"--> Highest probability should be the first one\")\n",
    "print(\"class 1 predictions:\", neighbors.predict_proba([[7.0, 3.2, 4.7, 1.4]]), \"--> Highest probability should be the second one\")\n",
    "print(\"class 2 predictions:\", neighbors.predict_proba([[6.3, 3.3, 6.0, 2.5]]), \"--> Highest probability should be the third one\\n\")\n",
    "# iii. Report on the score for kNN, what does the score measure?\n",
    "train_acc = neighbors.score(x_train, y_train)\n",
    "test_acc = neighbors.score(x_test, y_test)\n",
    "results['KNN'] = (train_acc, test_acc)\n",
    "\n",
    "print(\"Train Accuracy:\", train_acc)\n",
    "print(\"Test Accuracy:\", test_acc)"
   ],
   "metadata": {
    "collapsed": false,
    "pycharm": {
     "name": "#%%\n"
    }
   }
  },
  {
   "cell_type": "markdown",
   "source": [
    "The K-Nearest Neighbors algorithm gave us a prediction\n",
    "of a datapoint with 100% accuracy with data points for every class. This shows that\n",
    "K-Nearest Neighbors is very accurate at predicting data points correlating\n",
    "to specific classes. \n",
    "\n",
    "The scores for K-Nearest Neighbors:\n",
    "97.03% train accuracy\n",
    "100% test accuracy\n",
    "There are signs of slight under fitting, but 3% is not significant enough to be an issue."
   ],
   "metadata": {
    "collapsed": false,
    "pycharm": {
     "name": "#%% md\n"
    }
   }
  },
  {
   "cell_type": "code",
   "execution_count": 171,
   "outputs": [
    {
     "ename": "KeyboardInterrupt",
     "evalue": "",
     "output_type": "error",
     "traceback": [
      "\u001B[1;31m---------------------------------------------------------------------------\u001B[0m",
      "\u001B[1;31mKeyboardInterrupt\u001B[0m                         Traceback (most recent call last)",
      "Input \u001B[1;32mIn [171]\u001B[0m, in \u001B[0;36m<cell line: 16>\u001B[1;34m()\u001B[0m\n\u001B[0;32m     14\u001B[0m ax\u001B[38;5;241m.\u001B[39mtable(cellText\u001B[38;5;241m=\u001B[39mdf\u001B[38;5;241m.\u001B[39mvalues, rowLabels\u001B[38;5;241m=\u001B[39mcases, colLabels\u001B[38;5;241m=\u001B[39mdf\u001B[38;5;241m.\u001B[39mcolumns, cellLoc\u001B[38;5;241m=\u001B[39m\u001B[38;5;124m'\u001B[39m\u001B[38;5;124mcenter\u001B[39m\u001B[38;5;124m'\u001B[39m, loc\u001B[38;5;241m=\u001B[39m\u001B[38;5;124m'\u001B[39m\u001B[38;5;124mcenter\u001B[39m\u001B[38;5;124m'\u001B[39m)\n\u001B[0;32m     15\u001B[0m fig\u001B[38;5;241m.\u001B[39mtight_layout()\n\u001B[1;32m---> 16\u001B[0m \u001B[43mplt\u001B[49m\u001B[38;5;241;43m.\u001B[39;49m\u001B[43mshow\u001B[49m\u001B[43m(\u001B[49m\u001B[43m)\u001B[49m\n",
      "File \u001B[1;32m~\\anaconda3\\envs\\Judging Flowers\\lib\\site-packages\\matplotlib\\pyplot.py:368\u001B[0m, in \u001B[0;36mshow\u001B[1;34m(*args, **kwargs)\u001B[0m\n\u001B[0;32m    324\u001B[0m \u001B[38;5;124;03m\"\"\"\u001B[39;00m\n\u001B[0;32m    325\u001B[0m \u001B[38;5;124;03mDisplay all open figures.\u001B[39;00m\n\u001B[0;32m    326\u001B[0m \n\u001B[1;32m   (...)\u001B[0m\n\u001B[0;32m    365\u001B[0m \u001B[38;5;124;03mexplicitly there.\u001B[39;00m\n\u001B[0;32m    366\u001B[0m \u001B[38;5;124;03m\"\"\"\u001B[39;00m\n\u001B[0;32m    367\u001B[0m _warn_if_gui_out_of_main_thread()\n\u001B[1;32m--> 368\u001B[0m \u001B[38;5;28;01mreturn\u001B[39;00m _backend_mod\u001B[38;5;241m.\u001B[39mshow(\u001B[38;5;241m*\u001B[39margs, \u001B[38;5;241m*\u001B[39m\u001B[38;5;241m*\u001B[39mkwargs)\n",
      "File \u001B[1;32m~\\anaconda3\\envs\\Judging Flowers\\lib\\site-packages\\matplotlib_inline\\backend_inline.py:41\u001B[0m, in \u001B[0;36mshow\u001B[1;34m(close, block)\u001B[0m\n\u001B[0;32m     39\u001B[0m \u001B[38;5;28;01mtry\u001B[39;00m:\n\u001B[0;32m     40\u001B[0m     \u001B[38;5;28;01mfor\u001B[39;00m figure_manager \u001B[38;5;129;01min\u001B[39;00m Gcf\u001B[38;5;241m.\u001B[39mget_all_fig_managers():\n\u001B[1;32m---> 41\u001B[0m         \u001B[43mdisplay\u001B[49m\u001B[43m(\u001B[49m\n\u001B[0;32m     42\u001B[0m \u001B[43m            \u001B[49m\u001B[43mfigure_manager\u001B[49m\u001B[38;5;241;43m.\u001B[39;49m\u001B[43mcanvas\u001B[49m\u001B[38;5;241;43m.\u001B[39;49m\u001B[43mfigure\u001B[49m\u001B[43m,\u001B[49m\n\u001B[0;32m     43\u001B[0m \u001B[43m            \u001B[49m\u001B[43mmetadata\u001B[49m\u001B[38;5;241;43m=\u001B[39;49m\u001B[43m_fetch_figure_metadata\u001B[49m\u001B[43m(\u001B[49m\u001B[43mfigure_manager\u001B[49m\u001B[38;5;241;43m.\u001B[39;49m\u001B[43mcanvas\u001B[49m\u001B[38;5;241;43m.\u001B[39;49m\u001B[43mfigure\u001B[49m\u001B[43m)\u001B[49m\n\u001B[0;32m     44\u001B[0m \u001B[43m        \u001B[49m\u001B[43m)\u001B[49m\n\u001B[0;32m     45\u001B[0m \u001B[38;5;28;01mfinally\u001B[39;00m:\n\u001B[0;32m     46\u001B[0m     show\u001B[38;5;241m.\u001B[39m_to_draw \u001B[38;5;241m=\u001B[39m []\n",
      "File \u001B[1;32m~\\anaconda3\\envs\\Judging Flowers\\lib\\site-packages\\IPython\\core\\display_functions.py:298\u001B[0m, in \u001B[0;36mdisplay\u001B[1;34m(include, exclude, metadata, transient, display_id, raw, clear, *objs, **kwargs)\u001B[0m\n\u001B[0;32m    296\u001B[0m     publish_display_data(data\u001B[38;5;241m=\u001B[39mobj, metadata\u001B[38;5;241m=\u001B[39mmetadata, \u001B[38;5;241m*\u001B[39m\u001B[38;5;241m*\u001B[39mkwargs)\n\u001B[0;32m    297\u001B[0m \u001B[38;5;28;01melse\u001B[39;00m:\n\u001B[1;32m--> 298\u001B[0m     format_dict, md_dict \u001B[38;5;241m=\u001B[39m \u001B[38;5;28;43mformat\u001B[39;49m\u001B[43m(\u001B[49m\u001B[43mobj\u001B[49m\u001B[43m,\u001B[49m\u001B[43m \u001B[49m\u001B[43minclude\u001B[49m\u001B[38;5;241;43m=\u001B[39;49m\u001B[43minclude\u001B[49m\u001B[43m,\u001B[49m\u001B[43m \u001B[49m\u001B[43mexclude\u001B[49m\u001B[38;5;241;43m=\u001B[39;49m\u001B[43mexclude\u001B[49m\u001B[43m)\u001B[49m\n\u001B[0;32m    299\u001B[0m     \u001B[38;5;28;01mif\u001B[39;00m \u001B[38;5;129;01mnot\u001B[39;00m format_dict:\n\u001B[0;32m    300\u001B[0m         \u001B[38;5;66;03m# nothing to display (e.g. _ipython_display_ took over)\u001B[39;00m\n\u001B[0;32m    301\u001B[0m         \u001B[38;5;28;01mcontinue\u001B[39;00m\n",
      "File \u001B[1;32m~\\anaconda3\\envs\\Judging Flowers\\lib\\site-packages\\IPython\\core\\formatters.py:178\u001B[0m, in \u001B[0;36mDisplayFormatter.format\u001B[1;34m(self, obj, include, exclude)\u001B[0m\n\u001B[0;32m    176\u001B[0m md \u001B[38;5;241m=\u001B[39m \u001B[38;5;28;01mNone\u001B[39;00m\n\u001B[0;32m    177\u001B[0m \u001B[38;5;28;01mtry\u001B[39;00m:\n\u001B[1;32m--> 178\u001B[0m     data \u001B[38;5;241m=\u001B[39m \u001B[43mformatter\u001B[49m\u001B[43m(\u001B[49m\u001B[43mobj\u001B[49m\u001B[43m)\u001B[49m\n\u001B[0;32m    179\u001B[0m \u001B[38;5;28;01mexcept\u001B[39;00m:\n\u001B[0;32m    180\u001B[0m     \u001B[38;5;66;03m# FIXME: log the exception\u001B[39;00m\n\u001B[0;32m    181\u001B[0m     \u001B[38;5;28;01mraise\u001B[39;00m\n",
      "File \u001B[1;32m~\\anaconda3\\envs\\Judging Flowers\\lib\\site-packages\\decorator.py:232\u001B[0m, in \u001B[0;36mdecorate.<locals>.fun\u001B[1;34m(*args, **kw)\u001B[0m\n\u001B[0;32m    230\u001B[0m \u001B[38;5;28;01mif\u001B[39;00m \u001B[38;5;129;01mnot\u001B[39;00m kwsyntax:\n\u001B[0;32m    231\u001B[0m     args, kw \u001B[38;5;241m=\u001B[39m fix(args, kw, sig)\n\u001B[1;32m--> 232\u001B[0m \u001B[38;5;28;01mreturn\u001B[39;00m caller(func, \u001B[38;5;241m*\u001B[39m(extras \u001B[38;5;241m+\u001B[39m args), \u001B[38;5;241m*\u001B[39m\u001B[38;5;241m*\u001B[39mkw)\n",
      "File \u001B[1;32m~\\anaconda3\\envs\\Judging Flowers\\lib\\site-packages\\IPython\\core\\formatters.py:222\u001B[0m, in \u001B[0;36mcatch_format_error\u001B[1;34m(method, self, *args, **kwargs)\u001B[0m\n\u001B[0;32m    220\u001B[0m \u001B[38;5;124;03m\"\"\"show traceback on failed format call\"\"\"\u001B[39;00m\n\u001B[0;32m    221\u001B[0m \u001B[38;5;28;01mtry\u001B[39;00m:\n\u001B[1;32m--> 222\u001B[0m     r \u001B[38;5;241m=\u001B[39m method(\u001B[38;5;28mself\u001B[39m, \u001B[38;5;241m*\u001B[39margs, \u001B[38;5;241m*\u001B[39m\u001B[38;5;241m*\u001B[39mkwargs)\n\u001B[0;32m    223\u001B[0m \u001B[38;5;28;01mexcept\u001B[39;00m \u001B[38;5;167;01mNotImplementedError\u001B[39;00m:\n\u001B[0;32m    224\u001B[0m     \u001B[38;5;66;03m# don't warn on NotImplementedErrors\u001B[39;00m\n\u001B[0;32m    225\u001B[0m     \u001B[38;5;28;01mreturn\u001B[39;00m \u001B[38;5;28mself\u001B[39m\u001B[38;5;241m.\u001B[39m_check_return(\u001B[38;5;28;01mNone\u001B[39;00m, args[\u001B[38;5;241m0\u001B[39m])\n",
      "File \u001B[1;32m~\\anaconda3\\envs\\Judging Flowers\\lib\\site-packages\\IPython\\core\\formatters.py:339\u001B[0m, in \u001B[0;36mBaseFormatter.__call__\u001B[1;34m(self, obj)\u001B[0m\n\u001B[0;32m    337\u001B[0m     \u001B[38;5;28;01mpass\u001B[39;00m\n\u001B[0;32m    338\u001B[0m \u001B[38;5;28;01melse\u001B[39;00m:\n\u001B[1;32m--> 339\u001B[0m     \u001B[38;5;28;01mreturn\u001B[39;00m \u001B[43mprinter\u001B[49m\u001B[43m(\u001B[49m\u001B[43mobj\u001B[49m\u001B[43m)\u001B[49m\n\u001B[0;32m    340\u001B[0m \u001B[38;5;66;03m# Finally look for special method names\u001B[39;00m\n\u001B[0;32m    341\u001B[0m method \u001B[38;5;241m=\u001B[39m get_real_method(obj, \u001B[38;5;28mself\u001B[39m\u001B[38;5;241m.\u001B[39mprint_method)\n",
      "File \u001B[1;32m~\\anaconda3\\envs\\Judging Flowers\\lib\\site-packages\\IPython\\core\\pylabtools.py:151\u001B[0m, in \u001B[0;36mprint_figure\u001B[1;34m(fig, fmt, bbox_inches, base64, **kwargs)\u001B[0m\n\u001B[0;32m    148\u001B[0m     \u001B[38;5;28;01mfrom\u001B[39;00m \u001B[38;5;21;01mmatplotlib\u001B[39;00m\u001B[38;5;21;01m.\u001B[39;00m\u001B[38;5;21;01mbackend_bases\u001B[39;00m \u001B[38;5;28;01mimport\u001B[39;00m FigureCanvasBase\n\u001B[0;32m    149\u001B[0m     FigureCanvasBase(fig)\n\u001B[1;32m--> 151\u001B[0m fig\u001B[38;5;241m.\u001B[39mcanvas\u001B[38;5;241m.\u001B[39mprint_figure(bytes_io, \u001B[38;5;241m*\u001B[39m\u001B[38;5;241m*\u001B[39mkw)\n\u001B[0;32m    152\u001B[0m data \u001B[38;5;241m=\u001B[39m bytes_io\u001B[38;5;241m.\u001B[39mgetvalue()\n\u001B[0;32m    153\u001B[0m \u001B[38;5;28;01mif\u001B[39;00m fmt \u001B[38;5;241m==\u001B[39m \u001B[38;5;124m'\u001B[39m\u001B[38;5;124msvg\u001B[39m\u001B[38;5;124m'\u001B[39m:\n",
      "File \u001B[1;32m~\\anaconda3\\envs\\Judging Flowers\\lib\\site-packages\\matplotlib\\backend_bases.py:2299\u001B[0m, in \u001B[0;36mFigureCanvasBase.print_figure\u001B[1;34m(self, filename, dpi, facecolor, edgecolor, orientation, format, bbox_inches, pad_inches, bbox_extra_artists, backend, **kwargs)\u001B[0m\n\u001B[0;32m   2297\u001B[0m \u001B[38;5;28;01mif\u001B[39;00m bbox_inches:\n\u001B[0;32m   2298\u001B[0m     \u001B[38;5;28;01mif\u001B[39;00m bbox_inches \u001B[38;5;241m==\u001B[39m \u001B[38;5;124m\"\u001B[39m\u001B[38;5;124mtight\u001B[39m\u001B[38;5;124m\"\u001B[39m:\n\u001B[1;32m-> 2299\u001B[0m         bbox_inches \u001B[38;5;241m=\u001B[39m \u001B[38;5;28;43mself\u001B[39;49m\u001B[38;5;241;43m.\u001B[39;49m\u001B[43mfigure\u001B[49m\u001B[38;5;241;43m.\u001B[39;49m\u001B[43mget_tightbbox\u001B[49m\u001B[43m(\u001B[49m\n\u001B[0;32m   2300\u001B[0m \u001B[43m            \u001B[49m\u001B[43mrenderer\u001B[49m\u001B[43m,\u001B[49m\u001B[43m \u001B[49m\u001B[43mbbox_extra_artists\u001B[49m\u001B[38;5;241;43m=\u001B[39;49m\u001B[43mbbox_extra_artists\u001B[49m\u001B[43m)\u001B[49m\n\u001B[0;32m   2301\u001B[0m         \u001B[38;5;28;01mif\u001B[39;00m pad_inches \u001B[38;5;129;01mis\u001B[39;00m \u001B[38;5;28;01mNone\u001B[39;00m:\n\u001B[0;32m   2302\u001B[0m             pad_inches \u001B[38;5;241m=\u001B[39m rcParams[\u001B[38;5;124m'\u001B[39m\u001B[38;5;124msavefig.pad_inches\u001B[39m\u001B[38;5;124m'\u001B[39m]\n",
      "File \u001B[1;32m~\\anaconda3\\envs\\Judging Flowers\\lib\\site-packages\\matplotlib\\figure.py:1632\u001B[0m, in \u001B[0;36mFigureBase.get_tightbbox\u001B[1;34m(self, renderer, bbox_extra_artists)\u001B[0m\n\u001B[0;32m   1629\u001B[0m     artists \u001B[38;5;241m=\u001B[39m bbox_extra_artists\n\u001B[0;32m   1631\u001B[0m \u001B[38;5;28;01mfor\u001B[39;00m a \u001B[38;5;129;01min\u001B[39;00m artists:\n\u001B[1;32m-> 1632\u001B[0m     bbox \u001B[38;5;241m=\u001B[39m \u001B[43ma\u001B[49m\u001B[38;5;241;43m.\u001B[39;49m\u001B[43mget_tightbbox\u001B[49m\u001B[43m(\u001B[49m\u001B[43mrenderer\u001B[49m\u001B[43m)\u001B[49m\n\u001B[0;32m   1633\u001B[0m     \u001B[38;5;28;01mif\u001B[39;00m bbox \u001B[38;5;129;01mis\u001B[39;00m \u001B[38;5;129;01mnot\u001B[39;00m \u001B[38;5;28;01mNone\u001B[39;00m \u001B[38;5;129;01mand\u001B[39;00m (bbox\u001B[38;5;241m.\u001B[39mwidth \u001B[38;5;241m!=\u001B[39m \u001B[38;5;241m0\u001B[39m \u001B[38;5;129;01mor\u001B[39;00m bbox\u001B[38;5;241m.\u001B[39mheight \u001B[38;5;241m!=\u001B[39m \u001B[38;5;241m0\u001B[39m):\n\u001B[0;32m   1634\u001B[0m         bb\u001B[38;5;241m.\u001B[39mappend(bbox)\n",
      "File \u001B[1;32m~\\anaconda3\\envs\\Judging Flowers\\lib\\site-packages\\matplotlib\\axes\\_base.py:4666\u001B[0m, in \u001B[0;36m_AxesBase.get_tightbbox\u001B[1;34m(self, renderer, call_axes_locator, bbox_extra_artists, for_layout_only)\u001B[0m\n\u001B[0;32m   4662\u001B[0m     \u001B[38;5;28;01mif\u001B[39;00m np\u001B[38;5;241m.\u001B[39mall(clip_extent\u001B[38;5;241m.\u001B[39mextents \u001B[38;5;241m==\u001B[39m axbbox\u001B[38;5;241m.\u001B[39mextents):\n\u001B[0;32m   4663\u001B[0m         \u001B[38;5;66;03m# clip extent is inside the Axes bbox so don't check\u001B[39;00m\n\u001B[0;32m   4664\u001B[0m         \u001B[38;5;66;03m# this artist\u001B[39;00m\n\u001B[0;32m   4665\u001B[0m         \u001B[38;5;28;01mcontinue\u001B[39;00m\n\u001B[1;32m-> 4666\u001B[0m bbox \u001B[38;5;241m=\u001B[39m \u001B[43ma\u001B[49m\u001B[38;5;241;43m.\u001B[39;49m\u001B[43mget_tightbbox\u001B[49m\u001B[43m(\u001B[49m\u001B[43mrenderer\u001B[49m\u001B[43m)\u001B[49m\n\u001B[0;32m   4667\u001B[0m \u001B[38;5;28;01mif\u001B[39;00m (bbox \u001B[38;5;129;01mis\u001B[39;00m \u001B[38;5;129;01mnot\u001B[39;00m \u001B[38;5;28;01mNone\u001B[39;00m\n\u001B[0;32m   4668\u001B[0m         \u001B[38;5;129;01mand\u001B[39;00m \u001B[38;5;241m0\u001B[39m \u001B[38;5;241m<\u001B[39m bbox\u001B[38;5;241m.\u001B[39mwidth \u001B[38;5;241m<\u001B[39m np\u001B[38;5;241m.\u001B[39minf\n\u001B[0;32m   4669\u001B[0m         \u001B[38;5;129;01mand\u001B[39;00m \u001B[38;5;241m0\u001B[39m \u001B[38;5;241m<\u001B[39m bbox\u001B[38;5;241m.\u001B[39mheight \u001B[38;5;241m<\u001B[39m np\u001B[38;5;241m.\u001B[39minf):\n\u001B[0;32m   4670\u001B[0m     bb\u001B[38;5;241m.\u001B[39mappend(bbox)\n",
      "File \u001B[1;32m~\\anaconda3\\envs\\Judging Flowers\\lib\\site-packages\\matplotlib\\artist.py:355\u001B[0m, in \u001B[0;36mArtist.get_tightbbox\u001B[1;34m(self, renderer)\u001B[0m\n\u001B[0;32m    340\u001B[0m \u001B[38;5;28;01mdef\u001B[39;00m \u001B[38;5;21mget_tightbbox\u001B[39m(\u001B[38;5;28mself\u001B[39m, renderer):\n\u001B[0;32m    341\u001B[0m     \u001B[38;5;124;03m\"\"\"\u001B[39;00m\n\u001B[0;32m    342\u001B[0m \u001B[38;5;124;03m    Like `.Artist.get_window_extent`, but includes any clipping.\u001B[39;00m\n\u001B[0;32m    343\u001B[0m \n\u001B[1;32m   (...)\u001B[0m\n\u001B[0;32m    353\u001B[0m \u001B[38;5;124;03m        The enclosing bounding box (in figure pixel coordinates).\u001B[39;00m\n\u001B[0;32m    354\u001B[0m \u001B[38;5;124;03m    \"\"\"\u001B[39;00m\n\u001B[1;32m--> 355\u001B[0m     bbox \u001B[38;5;241m=\u001B[39m \u001B[38;5;28;43mself\u001B[39;49m\u001B[38;5;241;43m.\u001B[39;49m\u001B[43mget_window_extent\u001B[49m\u001B[43m(\u001B[49m\u001B[43mrenderer\u001B[49m\u001B[43m)\u001B[49m\n\u001B[0;32m    356\u001B[0m     \u001B[38;5;28;01mif\u001B[39;00m \u001B[38;5;28mself\u001B[39m\u001B[38;5;241m.\u001B[39mget_clip_on():\n\u001B[0;32m    357\u001B[0m         clip_box \u001B[38;5;241m=\u001B[39m \u001B[38;5;28mself\u001B[39m\u001B[38;5;241m.\u001B[39mget_clip_box()\n",
      "File \u001B[1;32m~\\anaconda3\\envs\\Judging Flowers\\lib\\site-packages\\matplotlib\\table.py:452\u001B[0m, in \u001B[0;36mTable.get_window_extent\u001B[1;34m(self, renderer)\u001B[0m\n\u001B[0;32m    449\u001B[0m \u001B[38;5;28;01mdef\u001B[39;00m \u001B[38;5;21mget_window_extent\u001B[39m(\u001B[38;5;28mself\u001B[39m, renderer):\n\u001B[0;32m    450\u001B[0m     \u001B[38;5;66;03m# docstring inherited\u001B[39;00m\n\u001B[0;32m    451\u001B[0m     \u001B[38;5;28mself\u001B[39m\u001B[38;5;241m.\u001B[39m_update_positions(renderer)\n\u001B[1;32m--> 452\u001B[0m     boxes \u001B[38;5;241m=\u001B[39m [cell\u001B[38;5;241m.\u001B[39mget_window_extent(renderer)\n\u001B[0;32m    453\u001B[0m              \u001B[38;5;28;01mfor\u001B[39;00m cell \u001B[38;5;129;01min\u001B[39;00m \u001B[38;5;28mself\u001B[39m\u001B[38;5;241m.\u001B[39m_cells\u001B[38;5;241m.\u001B[39mvalues()]\n\u001B[0;32m    454\u001B[0m     \u001B[38;5;28;01mreturn\u001B[39;00m Bbox\u001B[38;5;241m.\u001B[39munion(boxes)\n",
      "File \u001B[1;32m~\\anaconda3\\envs\\Judging Flowers\\lib\\site-packages\\matplotlib\\table.py:452\u001B[0m, in \u001B[0;36m<listcomp>\u001B[1;34m(.0)\u001B[0m\n\u001B[0;32m    449\u001B[0m \u001B[38;5;28;01mdef\u001B[39;00m \u001B[38;5;21mget_window_extent\u001B[39m(\u001B[38;5;28mself\u001B[39m, renderer):\n\u001B[0;32m    450\u001B[0m     \u001B[38;5;66;03m# docstring inherited\u001B[39;00m\n\u001B[0;32m    451\u001B[0m     \u001B[38;5;28mself\u001B[39m\u001B[38;5;241m.\u001B[39m_update_positions(renderer)\n\u001B[1;32m--> 452\u001B[0m     boxes \u001B[38;5;241m=\u001B[39m [\u001B[43mcell\u001B[49m\u001B[38;5;241;43m.\u001B[39;49m\u001B[43mget_window_extent\u001B[49m\u001B[43m(\u001B[49m\u001B[43mrenderer\u001B[49m\u001B[43m)\u001B[49m\n\u001B[0;32m    453\u001B[0m              \u001B[38;5;28;01mfor\u001B[39;00m cell \u001B[38;5;129;01min\u001B[39;00m \u001B[38;5;28mself\u001B[39m\u001B[38;5;241m.\u001B[39m_cells\u001B[38;5;241m.\u001B[39mvalues()]\n\u001B[0;32m    454\u001B[0m     \u001B[38;5;28;01mreturn\u001B[39;00m Bbox\u001B[38;5;241m.\u001B[39munion(boxes)\n",
      "File \u001B[1;32m~\\anaconda3\\envs\\Judging Flowers\\lib\\site-packages\\matplotlib\\patches.py:623\u001B[0m, in \u001B[0;36mPatch.get_window_extent\u001B[1;34m(self, renderer)\u001B[0m\n\u001B[0;32m    622\u001B[0m \u001B[38;5;28;01mdef\u001B[39;00m \u001B[38;5;21mget_window_extent\u001B[39m(\u001B[38;5;28mself\u001B[39m, renderer\u001B[38;5;241m=\u001B[39m\u001B[38;5;28;01mNone\u001B[39;00m):\n\u001B[1;32m--> 623\u001B[0m     \u001B[38;5;28;01mreturn\u001B[39;00m \u001B[38;5;28;43mself\u001B[39;49m\u001B[38;5;241;43m.\u001B[39;49m\u001B[43mget_path\u001B[49m\u001B[43m(\u001B[49m\u001B[43m)\u001B[49m\u001B[38;5;241;43m.\u001B[39;49m\u001B[43mget_extents\u001B[49m\u001B[43m(\u001B[49m\u001B[38;5;28;43mself\u001B[39;49m\u001B[38;5;241;43m.\u001B[39;49m\u001B[43mget_transform\u001B[49m\u001B[43m(\u001B[49m\u001B[43m)\u001B[49m\u001B[43m)\u001B[49m\n",
      "File \u001B[1;32m~\\anaconda3\\envs\\Judging Flowers\\lib\\site-packages\\matplotlib\\path.py:614\u001B[0m, in \u001B[0;36mPath.get_extents\u001B[1;34m(self, transform, **kwargs)\u001B[0m\n\u001B[0;32m    612\u001B[0m \u001B[38;5;28;01mfrom\u001B[39;00m \u001B[38;5;21;01m.\u001B[39;00m\u001B[38;5;21;01mtransforms\u001B[39;00m \u001B[38;5;28;01mimport\u001B[39;00m Bbox\n\u001B[0;32m    613\u001B[0m \u001B[38;5;28;01mif\u001B[39;00m transform \u001B[38;5;129;01mis\u001B[39;00m \u001B[38;5;129;01mnot\u001B[39;00m \u001B[38;5;28;01mNone\u001B[39;00m:\n\u001B[1;32m--> 614\u001B[0m     \u001B[38;5;28mself\u001B[39m \u001B[38;5;241m=\u001B[39m \u001B[43mtransform\u001B[49m\u001B[38;5;241;43m.\u001B[39;49m\u001B[43mtransform_path\u001B[49m\u001B[43m(\u001B[49m\u001B[38;5;28;43mself\u001B[39;49m\u001B[43m)\u001B[49m\n\u001B[0;32m    615\u001B[0m \u001B[38;5;28;01mif\u001B[39;00m \u001B[38;5;28mself\u001B[39m\u001B[38;5;241m.\u001B[39mcodes \u001B[38;5;129;01mis\u001B[39;00m \u001B[38;5;28;01mNone\u001B[39;00m:\n\u001B[0;32m    616\u001B[0m     xys \u001B[38;5;241m=\u001B[39m \u001B[38;5;28mself\u001B[39m\u001B[38;5;241m.\u001B[39mvertices\n",
      "File \u001B[1;32m~\\anaconda3\\envs\\Judging Flowers\\lib\\site-packages\\matplotlib\\transforms.py:1608\u001B[0m, in \u001B[0;36mTransform.transform_path\u001B[1;34m(self, path)\u001B[0m\n\u001B[0;32m   1601\u001B[0m \u001B[38;5;28;01mdef\u001B[39;00m \u001B[38;5;21mtransform_path\u001B[39m(\u001B[38;5;28mself\u001B[39m, path):\n\u001B[0;32m   1602\u001B[0m     \u001B[38;5;124;03m\"\"\"\u001B[39;00m\n\u001B[0;32m   1603\u001B[0m \u001B[38;5;124;03m    Apply the transform to `.Path` *path*, returning a new `.Path`.\u001B[39;00m\n\u001B[0;32m   1604\u001B[0m \n\u001B[0;32m   1605\u001B[0m \u001B[38;5;124;03m    In some cases, this transform may insert curves into the path\u001B[39;00m\n\u001B[0;32m   1606\u001B[0m \u001B[38;5;124;03m    that began as line segments.\u001B[39;00m\n\u001B[0;32m   1607\u001B[0m \u001B[38;5;124;03m    \"\"\"\u001B[39;00m\n\u001B[1;32m-> 1608\u001B[0m     \u001B[38;5;28;01mreturn\u001B[39;00m \u001B[38;5;28;43mself\u001B[39;49m\u001B[38;5;241;43m.\u001B[39;49m\u001B[43mtransform_path_affine\u001B[49m\u001B[43m(\u001B[49m\u001B[38;5;28;43mself\u001B[39;49m\u001B[38;5;241;43m.\u001B[39;49m\u001B[43mtransform_path_non_affine\u001B[49m\u001B[43m(\u001B[49m\u001B[43mpath\u001B[49m\u001B[43m)\u001B[49m\u001B[43m)\u001B[49m\n",
      "File \u001B[1;32m~\\anaconda3\\envs\\Judging Flowers\\lib\\site-packages\\matplotlib\\transforms.py:1618\u001B[0m, in \u001B[0;36mTransform.transform_path_affine\u001B[1;34m(self, path)\u001B[0m\n\u001B[0;32m   1610\u001B[0m \u001B[38;5;28;01mdef\u001B[39;00m \u001B[38;5;21mtransform_path_affine\u001B[39m(\u001B[38;5;28mself\u001B[39m, path):\n\u001B[0;32m   1611\u001B[0m     \u001B[38;5;124;03m\"\"\"\u001B[39;00m\n\u001B[0;32m   1612\u001B[0m \u001B[38;5;124;03m    Apply the affine part of this transform to `.Path` *path*, returning a\u001B[39;00m\n\u001B[0;32m   1613\u001B[0m \u001B[38;5;124;03m    new `.Path`.\u001B[39;00m\n\u001B[1;32m   (...)\u001B[0m\n\u001B[0;32m   1616\u001B[0m \u001B[38;5;124;03m    ``transform_path_affine(transform_path_non_affine(values))``.\u001B[39;00m\n\u001B[0;32m   1617\u001B[0m \u001B[38;5;124;03m    \"\"\"\u001B[39;00m\n\u001B[1;32m-> 1618\u001B[0m     \u001B[38;5;28;01mreturn\u001B[39;00m \u001B[38;5;28;43mself\u001B[39;49m\u001B[38;5;241;43m.\u001B[39;49m\u001B[43mget_affine\u001B[49m\u001B[43m(\u001B[49m\u001B[43m)\u001B[49m\u001B[38;5;241m.\u001B[39mtransform_path_affine(path)\n",
      "File \u001B[1;32m~\\anaconda3\\envs\\Judging Flowers\\lib\\site-packages\\matplotlib\\transforms.py:2446\u001B[0m, in \u001B[0;36mCompositeGenericTransform.get_affine\u001B[1;34m(self)\u001B[0m\n\u001B[0;32m   2444\u001B[0m     \u001B[38;5;28;01mreturn\u001B[39;00m \u001B[38;5;28mself\u001B[39m\u001B[38;5;241m.\u001B[39m_b\u001B[38;5;241m.\u001B[39mget_affine()\n\u001B[0;32m   2445\u001B[0m \u001B[38;5;28;01melse\u001B[39;00m:\n\u001B[1;32m-> 2446\u001B[0m     \u001B[38;5;28;01mreturn\u001B[39;00m Affine2D(\u001B[43mnp\u001B[49m\u001B[38;5;241;43m.\u001B[39;49m\u001B[43mdot\u001B[49m\u001B[43m(\u001B[49m\u001B[38;5;28;43mself\u001B[39;49m\u001B[38;5;241;43m.\u001B[39;49m\u001B[43m_b\u001B[49m\u001B[38;5;241;43m.\u001B[39;49m\u001B[43mget_affine\u001B[49m\u001B[43m(\u001B[49m\u001B[43m)\u001B[49m\u001B[38;5;241;43m.\u001B[39;49m\u001B[43mget_matrix\u001B[49m\u001B[43m(\u001B[49m\u001B[43m)\u001B[49m\u001B[43m,\u001B[49m\n\u001B[0;32m   2447\u001B[0m \u001B[43m                           \u001B[49m\u001B[38;5;28;43mself\u001B[39;49m\u001B[38;5;241;43m.\u001B[39;49m\u001B[43m_a\u001B[49m\u001B[38;5;241;43m.\u001B[39;49m\u001B[43mget_affine\u001B[49m\u001B[43m(\u001B[49m\u001B[43m)\u001B[49m\u001B[38;5;241;43m.\u001B[39;49m\u001B[43mget_matrix\u001B[49m\u001B[43m(\u001B[49m\u001B[43m)\u001B[49m\u001B[43m)\u001B[49m)\n",
      "File \u001B[1;32m<__array_function__ internals>:5\u001B[0m, in \u001B[0;36mdot\u001B[1;34m(*args, **kwargs)\u001B[0m\n",
      "\u001B[1;31mKeyboardInterrupt\u001B[0m: "
     ]
    }
   ],
   "source": [
    "fig, ax = plt.subplots(dpi=200, figsize = (7,1.5))\n",
    "fig.patch.set_visible(False)\n",
    "ax.axis('off')\n",
    "ax.axis('tight')\n",
    "cases=np.array([\"Train Accuracy\", \"Test Accuracy\"])\n",
    "df = pd.DataFrame({\"Logistic Regression\" : results['LogisticRegression'],\n",
    "                   \"SVM\" : results['SVM'],\n",
    "                   \"Neural Network (default)\" : results['SVM'],\n",
    "                   \"Neural Network (identity)\" : results['identity'],\n",
    "                   \"Neural Network (tanh)\" : results['tanh'],\n",
    "                   \"Neural Network (logistic)\" : results['logistic'],\n",
    "                   \"KNeighbors Classifier\" : results['KNN'],\n",
    "                   })\n",
    "ax.table(cellText=df.values, rowLabels=cases, colLabels=df.columns, cellLoc='center', loc='center')\n",
    "fig.tight_layout()\n",
    "plt.show()"
   ],
   "metadata": {
    "collapsed": false,
    "pycharm": {
     "name": "#%%\n"
    }
   }
  },
  {
   "cell_type": "markdown",
   "source": [
    "The table above shows the accuracies for each model\n",
    "\n",
    "Part 7: Conclusions and takeaways.\n",
    "All of the models have very similar train and testing accuracy, and none of them performed significantly better than the others.\n",
    "I think the reason for this is because the data is too easy to predict. I would be interested to see the results of the models on\n",
    "a more diverse dataset. It does not surprise me that all of the models have similar accuracies, especially since they're all nearly 100%."
   ],
   "metadata": {
    "collapsed": false,
    "pycharm": {
     "name": "#%% md\n"
    }
   }
  }
 ],
 "metadata": {
  "kernelspec": {
   "display_name": "Python 3",
   "language": "python",
   "name": "python3"
  },
  "language_info": {
   "codemirror_mode": {
    "name": "ipython",
    "version": 2
   },
   "file_extension": ".py",
   "mimetype": "text/x-python",
   "name": "python",
   "nbconvert_exporter": "python",
   "pygments_lexer": "ipython2",
   "version": "2.7.6"
  }
 },
 "nbformat": 4,
 "nbformat_minor": 0
}